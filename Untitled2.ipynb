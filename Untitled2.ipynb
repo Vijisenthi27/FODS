{
  "nbformat": 4,
  "nbformat_minor": 0,
  "metadata": {
    "colab": {
      "provenance": [],
      "toc_visible": true,
      "authorship_tag": "ABX9TyO7mrk55yZgdmvoQG8g1JuR",
      "include_colab_link": true
    },
    "kernelspec": {
      "name": "python3",
      "display_name": "Python 3"
    },
    "language_info": {
      "name": "python"
    }
  },
  "cells": [
    {
      "cell_type": "markdown",
      "metadata": {
        "id": "view-in-github",
        "colab_type": "text"
      },
      "source": [
        "<a href=\"https://colab.research.google.com/github/Vijisenthi27/FODS/blob/main/Untitled2.ipynb\" target=\"_parent\"><img src=\"https://colab.research.google.com/assets/colab-badge.svg\" alt=\"Open In Colab\"/></a>"
      ]
    },
    {
      "cell_type": "code",
      "execution_count": 2,
      "metadata": {
        "id": "N86Wu9eLsRxM"
      },
      "outputs": [],
      "source": [
        "import pandas as pd\n",
        "import numpy as np\n",
        "import matplotlib.pyplot as plt"
      ]
    },
    {
      "cell_type": "code",
      "source": [
        "df = pd.read_csv(\"Coffee_domestic_consumption.csv\")\n",
        "print(df.head())"
      ],
      "metadata": {
        "colab": {
          "base_uri": "https://localhost:8080/"
        },
        "collapsed": true,
        "id": "ZVKuV8q6stQq",
        "outputId": "a647100f-acc8-4acb-8252-caca0ab956f4"
      },
      "execution_count": 3,
      "outputs": [
        {
          "output_type": "stream",
          "name": "stdout",
          "text": [
            "                            Country      Coffee type    1990/91    1991/92  \\\n",
            "0                            Angola  Robusta/Arabica    1200000    1800000   \n",
            "1  Bolivia (Plurinational State of)          Arabica    1500000    1620000   \n",
            "2                            Brazil  Arabica/Robusta  492000000  510000000   \n",
            "3                           Burundi  Arabica/Robusta     120000      96000   \n",
            "4                           Ecuador  Arabica/Robusta   21000000   21000000   \n",
            "\n",
            "     1992/93    1993/94    1994/95    1995/96    1996/97    1997/98  ...  \\\n",
            "0    2100000    1200000    1500000     600000    1200000    2400000  ...   \n",
            "1    1650000    1710000    1770000    1830000    1890000    1950000  ...   \n",
            "2  534000000  546000000  558000000  606000000  660000000  690000000  ...   \n",
            "3     102000     114600     120000     120000     120000     120000  ...   \n",
            "4   21000000   21000000   21000000   21000000   18000000   18000000  ...   \n",
            "\n",
            "      2011/12     2012/13     2013/14     2014/15     2015/16     2016/17  \\\n",
            "0     1800000     1800000     1800000     1800000     1800000     1800000   \n",
            "1     2940000     3030000     3120000     3210000     3300000     3420000   \n",
            "2  1183200000  1219800000  1205100000  1219980000  1230480000  1273500000   \n",
            "3      120000      120000      120000      120000      120000      120000   \n",
            "4     9000000     9000000     9300000     9300000     9300000     9300000   \n",
            "\n",
            "      2017/18     2018/19     2019/20  Total_domestic_consumption  \n",
            "0     1800000     1800000     1800000                    46500000  \n",
            "1     3510000     3600000     3660000                    75180000  \n",
            "2  1319820000  1332000000  1320000000                 27824700000  \n",
            "3      120000      120000      120000                     3412020  \n",
            "4     9300000     9300000     8940000                   381540000  \n",
            "\n",
            "[5 rows x 33 columns]\n"
          ]
        }
      ]
    },
    {
      "cell_type": "code",
      "source": [
        "#identify the features\n",
        "features = df.columns\n",
        "print(features)"
      ],
      "metadata": {
        "colab": {
          "base_uri": "https://localhost:8080/"
        },
        "collapsed": true,
        "id": "pfc9o36stJK2",
        "outputId": "a8e1b718-24fc-4556-9e12-ff60334ce14d"
      },
      "execution_count": 4,
      "outputs": [
        {
          "output_type": "stream",
          "name": "stdout",
          "text": [
            "Index(['Country', 'Coffee type', '1990/91', '1991/92', '1992/93', '1993/94',\n",
            "       '1994/95', '1995/96', '1996/97', '1997/98', '1998/99', '1999/00',\n",
            "       '2000/01', '2001/02', '2002/03', '2003/04', '2004/05', '2005/06',\n",
            "       '2006/07', '2007/08', '2008/09', '2009/10', '2010/11', '2011/12',\n",
            "       '2012/13', '2013/14', '2014/15', '2015/16', '2016/17', '2017/18',\n",
            "       '2018/19', '2019/20', 'Total_domestic_consumption'],\n",
            "      dtype='object')\n"
          ]
        }
      ]
    },
    {
      "cell_type": "code",
      "source": [
        "#identify the datatypes\n",
        "data_types=df.dtypes\n",
        "print(data_types)"
      ],
      "metadata": {
        "colab": {
          "base_uri": "https://localhost:8080/"
        },
        "collapsed": true,
        "id": "3cUkAuRZtUYk",
        "outputId": "4ba854d9-6a6d-4954-8523-edeb8ed233a1"
      },
      "execution_count": 6,
      "outputs": [
        {
          "output_type": "stream",
          "name": "stdout",
          "text": [
            "Country                       object\n",
            "Coffee type                   object\n",
            "1990/91                        int64\n",
            "1991/92                        int64\n",
            "1992/93                        int64\n",
            "1993/94                        int64\n",
            "1994/95                        int64\n",
            "1995/96                        int64\n",
            "1996/97                        int64\n",
            "1997/98                        int64\n",
            "1998/99                        int64\n",
            "1999/00                        int64\n",
            "2000/01                        int64\n",
            "2001/02                        int64\n",
            "2002/03                        int64\n",
            "2003/04                        int64\n",
            "2004/05                        int64\n",
            "2005/06                        int64\n",
            "2006/07                        int64\n",
            "2007/08                        int64\n",
            "2008/09                        int64\n",
            "2009/10                        int64\n",
            "2010/11                        int64\n",
            "2011/12                        int64\n",
            "2012/13                        int64\n",
            "2013/14                        int64\n",
            "2014/15                        int64\n",
            "2015/16                        int64\n",
            "2016/17                        int64\n",
            "2017/18                        int64\n",
            "2018/19                        int64\n",
            "2019/20                        int64\n",
            "Total_domestic_consumption     int64\n",
            "dtype: object\n"
          ]
        }
      ]
    },
    {
      "cell_type": "code",
      "source": [
        "#summary\n",
        "summary=df.describe()\n",
        "print(summary)"
      ],
      "metadata": {
        "colab": {
          "base_uri": "https://localhost:8080/"
        },
        "id": "D7O54Fv8tfhg",
        "outputId": "58eaf010-e44b-4008-d66c-2dedd5796d86"
      },
      "execution_count": 7,
      "outputs": [
        {
          "output_type": "stream",
          "name": "stdout",
          "text": [
            "            1990/91       1991/92       1992/93       1993/94       1994/95  \\\n",
            "count  5.500000e+01  5.500000e+01  5.500000e+01  5.500000e+01  5.500000e+01   \n",
            "mean   2.128278e+07  2.206701e+07  2.285613e+07  2.301590e+07  2.330200e+07   \n",
            "std    6.810062e+07  7.032839e+07  7.363077e+07  7.511769e+07  7.679945e+07   \n",
            "min    0.000000e+00  0.000000e+00  0.000000e+00  0.000000e+00  0.000000e+00   \n",
            "25%    1.800000e+05  1.800000e+05  1.800000e+05  2.400000e+05  2.400000e+05   \n",
            "50%    2.040000e+06  3.000000e+06  3.000000e+06  2.400000e+06  3.000000e+06   \n",
            "75%    1.299000e+07  1.671300e+07  1.650000e+07  1.731000e+07  1.650000e+07   \n",
            "max    4.920000e+08  5.100000e+08  5.340000e+08  5.460000e+08  5.580000e+08   \n",
            "\n",
            "            1995/96       1996/97       1997/98       1998/99       1999/00  \\\n",
            "count  5.500000e+01  5.500000e+01  5.500000e+01  5.500000e+01  5.500000e+01   \n",
            "mean   2.465735e+07  2.565010e+07  2.647750e+07  2.739992e+07  2.808131e+07   \n",
            "std    8.321743e+07  9.039443e+07  9.438905e+07  9.995154e+07  1.040782e+08   \n",
            "min    0.000000e+00  0.000000e+00  0.000000e+00  0.000000e+00  0.000000e+00   \n",
            "25%    2.400000e+05  1.800000e+05  1.800000e+05  2.100000e+05  2.100000e+05   \n",
            "50%    3.000000e+06  3.000000e+06  3.000000e+06  3.000000e+06  3.000000e+06   \n",
            "75%    1.775535e+07  1.792548e+07  1.800000e+07  1.800000e+07  1.590000e+07   \n",
            "max    6.060000e+08  6.600000e+08  6.900000e+08  7.320000e+08  7.620000e+08   \n",
            "\n",
            "       ...       2011/12       2012/13       2013/14       2014/15  \\\n",
            "count  ...  5.500000e+01  5.500000e+01  5.500000e+01  5.500000e+01   \n",
            "mean   ...  4.711907e+07  4.871183e+07  4.944423e+07  5.069858e+07   \n",
            "std    ...  1.634943e+08  1.687185e+08  1.676074e+08  1.701179e+08   \n",
            "min    ...  0.000000e+00  0.000000e+00  0.000000e+00  0.000000e+00   \n",
            "25%    ...  3.000000e+05  3.000000e+05  3.000000e+05  3.000000e+05   \n",
            "50%    ...  4.020000e+06  4.302000e+06  4.408020e+06  4.519020e+06   \n",
            "75%    ...  2.070000e+07  2.115000e+07  2.070000e+07  2.205000e+07   \n",
            "max    ...  1.183200e+09  1.219800e+09  1.205100e+09  1.219980e+09   \n",
            "\n",
            "            2015/16       2016/17       2017/18       2018/19       2019/20  \\\n",
            "count  5.500000e+01  5.500000e+01  5.500000e+01  5.500000e+01  5.500000e+01   \n",
            "mean   5.165367e+07  5.272819e+07  5.420271e+07  5.481235e+07  5.452530e+07   \n",
            "std    1.719262e+08  1.777393e+08  1.840522e+08  1.858924e+08  1.844917e+08   \n",
            "min    0.000000e+00  0.000000e+00  0.000000e+00  0.000000e+00  0.000000e+00   \n",
            "25%    3.000000e+05  3.000000e+05  3.000000e+05  3.000000e+05  3.000000e+05   \n",
            "50%    4.560000e+06  4.620000e+06  4.680000e+06  4.200000e+06  4.290000e+06   \n",
            "75%    2.205000e+07  2.100000e+07  2.155002e+07  2.220000e+07  2.106000e+07   \n",
            "max    1.230480e+09  1.273500e+09  1.319820e+09  1.332000e+09  1.320000e+09   \n",
            "\n",
            "       Total_domestic_consumption  \n",
            "count                5.500000e+01  \n",
            "mean                 1.112487e+09  \n",
            "std                  3.834783e+09  \n",
            "min                  0.000000e+00  \n",
            "25%                  9.586920e+06  \n",
            "50%                  1.216200e+08  \n",
            "75%                  5.897930e+08  \n",
            "max                  2.782470e+10  \n",
            "\n",
            "[8 rows x 31 columns]\n"
          ]
        }
      ]
    }
  ]
}